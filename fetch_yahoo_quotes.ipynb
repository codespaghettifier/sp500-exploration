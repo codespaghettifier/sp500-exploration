{
 "cells": [
  {
   "cell_type": "code",
   "execution_count": 1,
   "metadata": {},
   "outputs": [
    {
     "name": "stdout",
     "output_type": "stream",
     "text": [
      "Defaulting to user installation because normal site-packages is not writeable\n",
      "Requirement already satisfied: yahoofinancials in /home/lemur/.local/lib/python3.10/site-packages (1.20)\n",
      "Requirement already satisfied: lxml>=4.9.1 in /home/lemur/.local/lib/python3.10/site-packages (from yahoofinancials) (4.9.4)\n",
      "Requirement already satisfied: requests>=2.31 in /home/lemur/.local/lib/python3.10/site-packages (from yahoofinancials) (2.31.0)\n",
      "Requirement already satisfied: pytz>=2022.5 in /home/lemur/.local/lib/python3.10/site-packages (from yahoofinancials) (2023.3.post1)\n",
      "Requirement already satisfied: peewee>=3.16.2 in /home/lemur/.local/lib/python3.10/site-packages (from yahoofinancials) (3.17.0)\n",
      "Requirement already satisfied: beautifulsoup4>=4.11.1 in /home/lemur/.local/lib/python3.10/site-packages (from yahoofinancials) (4.12.2)\n",
      "Requirement already satisfied: appdirs>=1.4.4 in /home/lemur/.local/lib/python3.10/site-packages (from yahoofinancials) (1.4.4)\n",
      "Requirement already satisfied: frozendict>=2.3.4 in /home/lemur/.local/lib/python3.10/site-packages (from yahoofinancials) (2.3.10)\n",
      "Requirement already satisfied: soupsieve>1.2 in /usr/lib/python3/dist-packages (from beautifulsoup4>=4.11.1->yahoofinancials) (2.3.1)\n",
      "Requirement already satisfied: charset-normalizer<4,>=2 in /home/lemur/.local/lib/python3.10/site-packages (from requests>=2.31->yahoofinancials) (3.3.2)\n",
      "Requirement already satisfied: urllib3<3,>=1.21.1 in /usr/lib/python3/dist-packages (from requests>=2.31->yahoofinancials) (1.26.5)\n",
      "Requirement already satisfied: idna<4,>=2.5 in /usr/lib/python3/dist-packages (from requests>=2.31->yahoofinancials) (3.3)\n",
      "Requirement already satisfied: certifi>=2017.4.17 in /usr/lib/python3/dist-packages (from requests>=2.31->yahoofinancials) (2020.6.20)\n",
      "Note: you may need to restart the kernel to use updated packages.\n"
     ]
    }
   ],
   "source": [
    "pip install yahoofinancials"
   ]
  },
  {
   "cell_type": "code",
   "execution_count": 2,
   "metadata": {},
   "outputs": [],
   "source": [
    "from yahoofinancials import YahooFinancials\n",
    "import datetime\n",
    "import pandas as pd\n",
    "import json\n",
    "import time"
   ]
  },
  {
   "cell_type": "code",
   "execution_count": 3,
   "metadata": {},
   "outputs": [],
   "source": [
    "file_path = f'data/yahoo/tickers.json'\n",
    "with open(file_path, 'r') as json_file:\n",
    "    tickers = json.load(json_file)"
   ]
  },
  {
   "cell_type": "code",
   "execution_count": 4,
   "metadata": {},
   "outputs": [],
   "source": [
    "file_path = f'data/yahoo/merged_selected_financials.json'\n",
    "with open(file_path, 'r') as json_file:\n",
    "    yahoo_financials = json.load(json_file)"
   ]
  },
  {
   "cell_type": "code",
   "execution_count": 5,
   "metadata": {},
   "outputs": [
    {
     "name": "stdout",
     "output_type": "stream",
     "text": [
      "Min timestamp: 2019-11-30 00:00:00\n",
      "Max timestamp: 2023-10-31 00:00:00\n"
     ]
    }
   ],
   "source": [
    "min_timestamp = datetime.datetime.now().timestamp()\n",
    "max_timestamp = datetime.datetime(1970, 1, 1).timestamp()\n",
    "\n",
    "for ticker in tickers:\n",
    "    for statement in yahoo_financials[ticker]['annual_income']:\n",
    "        for timestamp in statement:\n",
    "            timestamp = int(timestamp)\n",
    "            if timestamp < min_timestamp:\n",
    "                min_timestamp = timestamp\n",
    "            if timestamp > max_timestamp:\n",
    "                max_timestamp = timestamp\n",
    "\n",
    "print(f'Min timestamp: {datetime.datetime.fromtimestamp(min_timestamp)}')\n",
    "print(f'Max timestamp: {datetime.datetime.fromtimestamp(max_timestamp)}')"
   ]
  },
  {
   "cell_type": "code",
   "execution_count": 6,
   "metadata": {},
   "outputs": [],
   "source": [
    "def fetch_company_quotes(ticker, start_date, end_date):\n",
    "    company = YahooFinancials(ticker)\n",
    "    data = company.get_historical_price_data(start_date, end_date, 'daily')\n",
    "\n",
    "    if 'prices' not in data[ticker]:\n",
    "        return {}, False\n",
    "    \n",
    "    quotes = {}\n",
    "    for quote in data[ticker]['prices']:\n",
    "        quotes[str(quote['date'])] = {\n",
    "            'adjclose': quote['adjclose'],\n",
    "            'close': quote['close'],\n",
    "            'high': quote['high'],\n",
    "            'low': quote['low'],\n",
    "            'open': quote['open'],\n",
    "            'volume': quote['volume']\n",
    "        }\n",
    "        \n",
    "    return quotes, True"
   ]
  },
  {
   "cell_type": "code",
   "execution_count": 7,
   "metadata": {},
   "outputs": [],
   "source": [
    "def fetch_quotes(tickers, start_date, end_date):\n",
    "    quotes = {}\n",
    "    successes = {}\n",
    "    for index, ticker in enumerate(tickers):\n",
    "        print(f'[{index + 1}\\t/ {len(tickers)}] Fetching {ticker} ... ', end='')\n",
    "\n",
    "        company_quotes, success = fetch_company_quotes(ticker, start_date, end_date)\n",
    "        successes[ticker] = success\n",
    "\n",
    "        if not success:\n",
    "            print('FAILED')\n",
    "            continue\n",
    "\n",
    "        quotes[ticker] = company_quotes\n",
    "        successes[ticker] = True\n",
    "        print('OK')\n",
    "\n",
    "    return quotes, successes"
   ]
  },
  {
   "cell_type": "code",
   "execution_count": 8,
   "metadata": {},
   "outputs": [
    {
     "name": "stdout",
     "output_type": "stream",
     "text": [
      "[1\t/ 10] Fetching A ... "
     ]
    },
    {
     "name": "stdout",
     "output_type": "stream",
     "text": [
      "OK\n",
      "[2\t/ 10] Fetching AAL ... OK\n",
      "[3\t/ 10] Fetching AAP ... OK\n",
      "[4\t/ 10] Fetching AAPL ... OK\n",
      "[5\t/ 10] Fetching ABBV ... OK\n",
      "[6\t/ 10] Fetching ABC ... FAILED\n",
      "[7\t/ 10] Fetching ABMD ... OK\n",
      "[8\t/ 10] Fetching ABT ... OK\n",
      "[9\t/ 10] Fetching ACN ... OK\n",
      "[10\t/ 10] Fetching ADBE ... OK\n"
     ]
    }
   ],
   "source": [
    "start_date = str(datetime.date(2019, 11, 30))\n",
    "end_date = str(datetime.date(2023, 10, 31))\n",
    "\n",
    "quotes, successes = fetch_quotes(tickers, start_date, end_date)"
   ]
  },
  {
   "cell_type": "code",
   "execution_count": 9,
   "metadata": {},
   "outputs": [],
   "source": [
    "quotes_and_validities = {\n",
    "    'quotes': quotes,\n",
    "    'validities': successes\n",
    "}\n",
    "\n",
    "file_path = 'data/yahoo/quotes.json'\n",
    "with open(file_path, 'w') as json_file:\n",
    "    json.dump(quotes_and_validities, json_file, indent=4)"
   ]
  }
 ],
 "metadata": {
  "kernelspec": {
   "display_name": "Python 3",
   "language": "python",
   "name": "python3"
  },
  "language_info": {
   "codemirror_mode": {
    "name": "ipython",
    "version": 3
   },
   "file_extension": ".py",
   "mimetype": "text/x-python",
   "name": "python",
   "nbconvert_exporter": "python",
   "pygments_lexer": "ipython3",
   "version": "3.10.12"
  }
 },
 "nbformat": 4,
 "nbformat_minor": 2
}
