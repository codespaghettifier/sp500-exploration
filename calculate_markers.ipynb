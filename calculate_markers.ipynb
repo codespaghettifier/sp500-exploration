{
 "cells": [
  {
   "cell_type": "code",
   "execution_count": 1,
   "metadata": {},
   "outputs": [],
   "source": [
    "import pandas as pd\n",
    "import numpy as np\n",
    "from matplotlib import pyplot as plt\n",
    "import json\n",
    "from datetime import datetime\n",
    "import random\n",
    "import seaborn as sns\n",
    "import math\n",
    "from sklearn.preprocessing import StandardScaler"
   ]
  },
  {
   "cell_type": "code",
   "execution_count": 2,
   "metadata": {},
   "outputs": [],
   "source": [
    "with open('data/yahoo/selected_financials_and_quotes.json', 'r') as json_file:\n",
    "    financials_and_quotes = json.load(json_file)"
   ]
  },
  {
   "cell_type": "code",
   "execution_count": 3,
   "metadata": {},
   "outputs": [],
   "source": [
    "tickers = list(financials_and_quotes.keys())"
   ]
  },
  {
   "cell_type": "code",
   "execution_count": 4,
   "metadata": {},
   "outputs": [],
   "source": [
    "position_types_selected_for_analysis = {}\n",
    "position_types_selected_for_analysis['quarterly_income'] = [\n",
    "    'totalRevenue',\n",
    "    'totalExpenses',\n",
    "    'grossProfit',\n",
    "    'netIncome',\n",
    "    'ebit',\n",
    "    'eBITDA',\n",
    "    'operatingRevenue',\n",
    "    'operatingIncome',\n",
    "    'dilutedEPS',\n",
    "]\n",
    "position_types_selected_for_analysis['quarterly_balance'] = [\n",
    "    'totalAssets',\n",
    "    'totalLiabilitiesNetMinorityInterest',\n",
    "    'totalDebt',\n",
    "    'ordinarySharesNumber',\n",
    "    'commonStockEquity',\n",
    "    'tangibleBookValue',\n",
    "    'investedCapital',\n",
    "]\n",
    "position_types_selected_for_analysis['quarterly_cashflow'] = [\n",
    "    'operatingCashFlow',\n",
    "    'investingCashFlow',\n",
    "    'financingCashFlow',\n",
    "    'freeCashFlow',\n",
    "]\n",
    "position_types_selected_for_analysis['annual_income'] = [\n",
    "    'totalRevenue',\n",
    "    'totalExpenses',\n",
    "    'grossProfit',\n",
    "    'netIncome',\n",
    "    'ebit',\n",
    "    'eBITDA',\n",
    "    'operatingRevenue',\n",
    "    'operatingIncome',\n",
    "    'dilutedEPS',\n",
    "]\n",
    "position_types_selected_for_analysis['annual_balance'] = [\n",
    "    'totalAssets',\n",
    "    'totalLiabilitiesNetMinorityInterest',\n",
    "    'totalDebt',\n",
    "    'ordinarySharesNumber',\n",
    "    'commonStockEquity',\n",
    "    'tangibleBookValue',\n",
    "    'investedCapital',\n",
    "]\n",
    "position_types_selected_for_analysis['annual_cashflow'] = [\n",
    "    'operatingCashFlow',\n",
    "    'investingCashFlow',\n",
    "    'financingCashFlow',\n",
    "    'freeCashFlow',\n",
    "]"
   ]
  },
  {
   "cell_type": "code",
   "execution_count": 5,
   "metadata": {},
   "outputs": [],
   "source": [
    "statement_types = [\n",
    "    'quarterly_income',\n",
    "    'quarterly_balance',\n",
    "    'quarterly_cashflow',\n",
    "    'annual_income',\n",
    "    'annual_balance',\n",
    "    'annual_cashflow'\n",
    " ]"
   ]
  },
  {
   "cell_type": "code",
   "execution_count": 6,
   "metadata": {},
   "outputs": [],
   "source": [
    "# Standarize financials\n",
    "for statement_type in statement_types:\n",
    "    for position_type in position_types_selected_for_analysis[statement_type]:\n",
    "        data = []\n",
    "        for ticker in tickers:\n",
    "            for index in range(len(financials_and_quotes[ticker][statement_type])):\n",
    "                timestamp = list(financials_and_quotes[ticker][statement_type][index].keys())[0]\n",
    "                data.append(financials_and_quotes[ticker][statement_type][index][timestamp][position_type])            \n",
    "\n",
    "        scaler = StandardScaler().fit(np.array(data).reshape(-1, 1))\n",
    "        for ticker in tickers:\n",
    "            for index in range(len(financials_and_quotes[ticker][statement_type])):\n",
    "                timestamp = list(financials_and_quotes[ticker][statement_type][index].keys())[0]\n",
    "                standarized_position_name = position_type + 'Standarized'\n",
    "                financials_and_quotes[ticker][statement_type][index][timestamp][standarized_position_name] = scaler.transform(np.array(financials_and_quotes[ticker][statement_type][index][timestamp][position_type]).reshape(-1, 1)).tolist()[0][0]"
   ]
  },
  {
   "cell_type": "code",
   "execution_count": 7,
   "metadata": {},
   "outputs": [
    {
     "data": {
      "text/plain": [
       "{'1690754400': {'totalRevenue': 1672000000.0,\n",
       "  'totalExpenses': 1539000000.0,\n",
       "  'grossProfit': 658000000.0,\n",
       "  'netIncome': 111000000.0,\n",
       "  'ebit': 1470000000.0,\n",
       "  'eBITDA': 227000000.0,\n",
       "  'operatingRevenue': 1672000000.0,\n",
       "  'operatingIncome': 133000000.0,\n",
       "  'dilutedEPS': 3.82,\n",
       "  'totalRevenueStandarized': -0.2884141775546588,\n",
       "  'totalExpensesStandarized': -0.3209667043167068,\n",
       "  'grossProfitStandarized': -0.3211107542164752,\n",
       "  'netIncomeStandarized': -0.22049677075602242,\n",
       "  'ebitStandarized': 0.037580393290452464,\n",
       "  'eBITDAStandarized': -0.30269798556599664,\n",
       "  'operatingRevenueStandarized': -0.36129126806212514,\n",
       "  'operatingIncomeStandarized': -0.25042297091865245,\n",
       "  'dilutedEPSStandarized': 0.189390233846048}}"
      ]
     },
     "execution_count": 7,
     "metadata": {},
     "output_type": "execute_result"
    }
   ],
   "source": [
    "financials_and_quotes[tickers[0]][statement_types[0]][0]"
   ]
  },
  {
   "cell_type": "code",
   "execution_count": 8,
   "metadata": {},
   "outputs": [],
   "source": [
    "def get_last_quotes_timestamp(ticker_data, max_timestamp):\n",
    "    last_timestamp_before = '0'\n",
    "    for timestamp in ticker_data['quotes'].keys():\n",
    "        if int(timestamp) <= int(max_timestamp) and int(timestamp) > int(last_timestamp_before):\n",
    "            last_timestamp_before = timestamp\n",
    "    return last_timestamp_before if last_timestamp_before != '0' else None\n"
   ]
  },
  {
   "cell_type": "code",
   "execution_count": 9,
   "metadata": {},
   "outputs": [],
   "source": [
    "def get_statement_index(statements, timestamp):\n",
    "    for i in range(len(statements)):\n",
    "        if list(statements[i].keys())[0] == timestamp:\n",
    "            return i\n",
    "        \n",
    "    return None"
   ]
  },
  {
   "cell_type": "code",
   "execution_count": 10,
   "metadata": {},
   "outputs": [],
   "source": [
    "# Calculate markers for qurterly financials and filter out statements without corrrsponding statemens of the same timestamp or with misssing quotes\n",
    "for ticker in tickers:\n",
    "    timestamps = set()\n",
    "    for statement_type in ['quarterly_income', 'quarterly_balance', 'quarterly_cashflow']:\n",
    "        for index in range(len(financials_and_quotes[ticker][statement_type])):\n",
    "            timestamp = list(financials_and_quotes[ticker][statement_type][index].keys())[0]\n",
    "            timestamps.add(timestamp)\n",
    "\n",
    "    financials_and_quotes[ticker]['quarterly_markers'] = []\n",
    "    for timestamp in timestamps:\n",
    "        income_statement_index = get_statement_index(financials_and_quotes[ticker]['quarterly_income'], timestamp)\n",
    "        balance_statement_index = get_statement_index(financials_and_quotes[ticker]['quarterly_balance'], timestamp)\n",
    "        cashflow_statement_index = get_statement_index(financials_and_quotes[ticker]['quarterly_cashflow'], timestamp)\n",
    "        if income_statement_index is None or balance_statement_index is None or cashflow_statement_index is None:\n",
    "            if income_statement_index is not None:\n",
    "                financials_and_quotes[ticker]['quarterly_income'].pop(income_statement_index)\n",
    "            if balance_statement_index is not None:\n",
    "                financials_and_quotes[ticker]['quarterly_balance'].pop(balance_statement_index)\n",
    "            if cashflow_statement_index is not None:\n",
    "                financials_and_quotes[ticker]['quarterly_cashflow'].pop(cashflow_statement_index)\n",
    "            continue\n",
    "        \n",
    "        quotes_timestamp = get_last_quotes_timestamp(financials_and_quotes[ticker], timestamp)\n",
    "        if quotes_timestamp is None:\n",
    "            financials_and_quotes[ticker]['quarterly_income'].pop(income_statement_index)\n",
    "            financials_and_quotes[ticker]['quarterly_balance'].pop(balance_statement_index)\n",
    "            financials_and_quotes[ticker]['quarterly_cashflow'].pop(cashflow_statement_index)\n",
    "            continue\n",
    "\n",
    "        price = financials_and_quotes[ticker]['quotes'][quotes_timestamp]['close']\n",
    "        shares_num = financials_and_quotes[ticker]['quarterly_balance'][balance_statement_index][timestamp]['ordinarySharesNumber']\n",
    "        net_income = financials_and_quotes[ticker]['quarterly_income'][income_statement_index][timestamp]['netIncome']\n",
    "        equity = financials_and_quotes[ticker]['quarterly_balance'][balance_statement_index][timestamp]['commonStockEquity']\n",
    "        tangible_book_value = financials_and_quotes[ticker]['quarterly_balance'][balance_statement_index][timestamp]['tangibleBookValue']\n",
    "        total_revenue = financials_and_quotes[ticker]['quarterly_income'][income_statement_index][timestamp]['totalRevenue']\n",
    "        gross_profit = financials_and_quotes[ticker]['quarterly_income'][income_statement_index][timestamp]['grossProfit']\n",
    "        ebit = financials_and_quotes[ticker]['quarterly_income'][income_statement_index][timestamp]['ebit']\n",
    "        ebitda = financials_and_quotes[ticker]['quarterly_income'][income_statement_index][timestamp]['eBITDA']\n",
    "        operating_income = financials_and_quotes[ticker]['quarterly_income'][income_statement_index][timestamp]['operatingIncome']\n",
    "        debt = financials_and_quotes[ticker]['quarterly_balance'][balance_statement_index][timestamp]['totalDebt']\n",
    "        assets = financials_and_quotes[ticker]['quarterly_balance'][balance_statement_index][timestamp]['totalAssets']\n",
    "        operating_cashflow = financials_and_quotes[ticker]['quarterly_cashflow'][cashflow_statement_index][timestamp]['operatingCashFlow']\n",
    "        investing_cashflow = financials_and_quotes[ticker]['quarterly_cashflow'][cashflow_statement_index][timestamp]['investingCashFlow']\n",
    "        free_cashflow = financials_and_quotes[ticker]['quarterly_cashflow'][cashflow_statement_index][timestamp]['freeCashFlow']\n",
    "\n",
    "        marketcap = price * shares_num\n",
    "        markers = {\n",
    "            'marketcap': marketcap,\n",
    "            'price/earnings': marketcap / net_income if net_income != 0 else 10e9,\n",
    "            'price/equity': marketcap / equity if equity != 0 else 10e9,\n",
    "            'price/tangibleBookValue': marketcap / tangible_book_value if tangible_book_value != 0 else 10e9,\n",
    "            'netIncomeMargin': net_income / total_revenue if total_revenue != 0 else 10e9,\n",
    "            'grossProfitMargin': gross_profit / total_revenue if total_revenue != 0 else 10e9,\n",
    "            'ebitMargin': ebit / total_revenue if total_revenue != 0 else 10e9,\n",
    "            'ebitdaMargin': ebitda / total_revenue if total_revenue != 0 else 10e9,\n",
    "            'operatingIncomeMargin': operating_income / total_revenue if total_revenue != 0 else 10e9,\n",
    "            'operatingCashFlowMargin': operating_cashflow / total_revenue if total_revenue != 0 else 10e9,\n",
    "            'investingCashFlowMargin': investing_cashflow / total_revenue if total_revenue != 0 else 10e9,\n",
    "            'freeCashFlowMargin': free_cashflow / total_revenue if total_revenue != 0 else 10e9,\n",
    "            'debt/assets': debt / assets if assets != 0 else 10e9,\n",
    "            'netIncome/equity': net_income / equity if equity != 0 else 10e9,\n",
    "            'netIncome/tangibleBookValue': net_income / tangible_book_value if tangible_book_value != 0 else 10e9,\n",
    "            'netIncome/totalAssets': net_income / assets if assets != 0 else 10e9,\n",
    "        }\n",
    "        financials_and_quotes[ticker]['quarterly_markers'].append({\n",
    "            timestamp: markers\n",
    "        })"
   ]
  },
  {
   "cell_type": "code",
   "execution_count": 11,
   "metadata": {},
   "outputs": [],
   "source": [
    "# Calculate markers for annual financials and filter out statements without corrrsponding statemens of the same timestamp or with misssing quotes\n",
    "for ticker in tickers:\n",
    "    timestamps = set()\n",
    "    for statement_type in ['annual_income', 'annual_balance', 'annual_cashflow']:\n",
    "        for index in range(len(financials_and_quotes[ticker][statement_type])):\n",
    "            timestamp = list(financials_and_quotes[ticker][statement_type][index].keys())[0]\n",
    "            timestamps.add(timestamp)\n",
    "\n",
    "    financials_and_quotes[ticker]['annual_markers'] = []\n",
    "    for timestamp in timestamps:\n",
    "        income_statement_index = get_statement_index(financials_and_quotes[ticker]['annual_income'], timestamp)\n",
    "        balance_statement_index = get_statement_index(financials_and_quotes[ticker]['annual_balance'], timestamp)\n",
    "        cashflow_statement_index = get_statement_index(financials_and_quotes[ticker]['annual_cashflow'], timestamp)\n",
    "        if income_statement_index is None or balance_statement_index is None or cashflow_statement_index is None:\n",
    "            if income_statement_index is not None:\n",
    "                financials_and_quotes[ticker]['annual_income'].pop(income_statement_index)\n",
    "            if balance_statement_index is not None:\n",
    "                financials_and_quotes[ticker]['annual_balance'].pop(balance_statement_index)\n",
    "            if cashflow_statement_index is not None:\n",
    "                financials_and_quotes[ticker]['annual_cashflow'].pop(cashflow_statement_index)\n",
    "            continue\n",
    "\n",
    "        quotes_timestamp = get_last_quotes_timestamp(financials_and_quotes[ticker], timestamp)\n",
    "        if quotes_timestamp is None:\n",
    "            financials_and_quotes[ticker]['annual_income'].pop(income_statement_index)\n",
    "            financials_and_quotes[ticker]['annual_balance'].pop(balance_statement_index)\n",
    "            financials_and_quotes[ticker]['annual_cashflow'].pop(cashflow_statement_index)\n",
    "            continue\n",
    "\n",
    "        price = financials_and_quotes[ticker]['quotes'][quotes_timestamp]['close']\n",
    "        shares_num = financials_and_quotes[ticker]['annual_balance'][balance_statement_index][timestamp]['ordinarySharesNumber']\n",
    "        net_income = financials_and_quotes[ticker]['annual_income'][income_statement_index][timestamp]['netIncome']\n",
    "        equity = financials_and_quotes[ticker]['annual_balance'][balance_statement_index][timestamp]['commonStockEquity']\n",
    "        tangible_book_value = financials_and_quotes[ticker]['annual_balance'][balance_statement_index][timestamp]['tangibleBookValue']\n",
    "        total_revenue = financials_and_quotes[ticker]['annual_income'][income_statement_index][timestamp]['totalRevenue']\n",
    "        gross_profit = financials_and_quotes[ticker]['annual_income'][income_statement_index][timestamp]['grossProfit']\n",
    "        ebit = financials_and_quotes[ticker]['annual_income'][income_statement_index][timestamp]['ebit']\n",
    "        ebitda = financials_and_quotes[ticker]['annual_income'][income_statement_index][timestamp]['eBITDA']\n",
    "        operating_income = financials_and_quotes[ticker]['annual_income'][income_statement_index][timestamp]['operatingIncome']\n",
    "        debt = financials_and_quotes[ticker]['annual_balance'][balance_statement_index][timestamp]['totalDebt']\n",
    "        assets = financials_and_quotes[ticker]['annual_balance'][balance_statement_index][timestamp]['totalAssets']\n",
    "        operating_cashflow = financials_and_quotes[ticker]['annual_cashflow'][cashflow_statement_index][timestamp]['operatingCashFlow']\n",
    "        investing_cashflow = financials_and_quotes[ticker]['annual_cashflow'][cashflow_statement_index][timestamp]['investingCashFlow']\n",
    "        free_cashflow = financials_and_quotes[ticker]['annual_cashflow'][cashflow_statement_index][timestamp]['freeCashFlow']\n",
    "\n",
    "        marketcap = price * shares_num\n",
    "        markers = {\n",
    "            'marketcap': marketcap,\n",
    "            'price/earnings': marketcap / net_income if net_income != 0 else 10e9,\n",
    "            'price/equity': marketcap / equity if equity != 0 else 10e9,\n",
    "            'price/tangibleBookValue': marketcap / tangible_book_value if tangible_book_value != 0 else 10e9,\n",
    "            'netIncomeMargin': net_income / total_revenue if total_revenue != 0 else 10e9,\n",
    "            'grossProfitMargin': gross_profit / total_revenue if total_revenue != 0 else 10e9,\n",
    "            'ebitMargin': ebit / total_revenue if total_revenue != 0 else 10e9,\n",
    "            'ebitdaMargin': ebitda / total_revenue if total_revenue != 0 else 10e9,\n",
    "            'operatingIncomeMargin': operating_income / total_revenue if total_revenue != 0 else 10e9,\n",
    "            'operatingCashFlowMargin': operating_cashflow / total_revenue if total_revenue != 0 else 10e9,\n",
    "            'investingCashFlowMargin': investing_cashflow / total_revenue if total_revenue != 0 else 10e9,\n",
    "            'freeCashFlowMargin': free_cashflow / total_revenue if total_revenue != 0 else 10e9,\n",
    "            'debt/assets': debt / assets if assets != 0 else 10e9,\n",
    "            'netIncome/equity': net_income / equity if equity != 0 else 10e9,\n",
    "            'netIncome/tangibleBookValue': net_income / tangible_book_value if tangible_book_value != 0 else 10e9,\n",
    "            'netIncome/totalAssets': net_income / assets if assets != 0 else 10e9,\n",
    "        }\n",
    "        financials_and_quotes[ticker]['annual_markers'].append({\n",
    "            timestamp: markers\n",
    "        })\n"
   ]
  },
  {
   "cell_type": "code",
   "execution_count": 12,
   "metadata": {},
   "outputs": [
    {
     "data": {
      "text/plain": [
       "{'1604098800': {'marketcap': 31239538879.39453,\n",
       "  'price/earnings': 43.44859371264886,\n",
       "  'price/equity': 6.4107405867831995,\n",
       "  'price/tangibleBookValue': 70.99895199862394,\n",
       "  'netIncomeMargin': 0.13466941374789287,\n",
       "  'grossProfitMargin': 0.5313729162764562,\n",
       "  'ebitMargin': 0.17231691327964038,\n",
       "  'ebitdaMargin': 0.23000561902978087,\n",
       "  'operatingIncomeMargin': 0.15845663982019104,\n",
       "  'operatingCashFlowMargin': 0.17250421427233564,\n",
       "  'investingCashFlowMargin': -0.02753324592620341,\n",
       "  'freeCashFlowMargin': 0.15021539614159954,\n",
       "  'debt/assets': 0.24503999169003843,\n",
       "  'netIncome/equity': 0.14754771188179766,\n",
       "  'netIncome/tangibleBookValue': 1.634090909090909,\n",
       "  'netIncome/totalAssets': 0.07468577957826945}}"
      ]
     },
     "execution_count": 12,
     "metadata": {},
     "output_type": "execute_result"
    }
   ],
   "source": [
    "financials_and_quotes[tickers[0]]['annual_markers'][0]"
   ]
  },
  {
   "cell_type": "code",
   "execution_count": 13,
   "metadata": {},
   "outputs": [
    {
     "data": {
      "text/plain": [
       "dict_keys(['1575297000', '1575383400', '1575469800', '1575556200', '1575642600', '1575901800', '1575988200', '1576074600', '1576161000', '1576247400', '1576506600', '1576593000', '1576679400', '1576765800', '1576852200', '1577111400', '1577197800', '1577370600', '1577457000', '1577716200', '1577802600', '1577975400', '1578061800', '1578321000', '1578407400', '1578493800', '1578580200', '1578666600', '1578925800', '1579012200', '1579098600', '1579185000', '1579271400', '1579617000', '1579703400', '1579789800', '1579876200', '1580135400', '1580221800', '1580308200', '1580394600', '1580481000', '1580740200', '1580826600', '1580913000', '1580999400', '1581085800', '1581345000', '1581431400', '1581517800', '1581604200', '1581690600', '1582036200', '1582122600', '1582209000', '1582295400', '1582554600', '1582641000', '1582727400', '1582813800', '1582900200', '1583159400', '1583245800', '1583332200', '1583418600', '1583505000', '1583760600', '1583847000', '1583933400', '1584019800', '1584106200', '1584365400', '1584451800', '1584538200', '1584624600', '1584711000', '1584970200', '1585056600', '1585143000', '1585229400', '1585315800', '1585575000', '1585661400', '1585747800', '1585834200', '1585920600', '1586179800', '1586266200', '1586352600', '1586439000', '1586784600', '1586871000', '1586957400', '1587043800', '1587130200', '1587389400', '1587475800', '1587562200', '1587648600', '1587735000', '1587994200', '1588080600', '1588167000', '1588253400', '1588339800', '1588599000', '1588685400', '1588771800', '1588858200', '1588944600', '1589203800', '1589290200', '1589376600', '1589463000', '1589549400', '1589808600', '1589895000', '1589981400', '1590067800', '1590154200', '1590499800', '1590586200', '1590672600', '1590759000', '1591018200', '1591104600', '1591191000', '1591277400', '1591363800', '1591623000', '1591709400', '1591795800', '1591882200', '1591968600', '1592227800', '1592314200', '1592400600', '1592487000', '1592573400', '1592832600', '1592919000', '1593005400', '1593091800', '1593178200', '1593437400', '1593523800', '1593610200', '1593696600', '1594042200', '1594128600', '1594215000', '1594301400', '1594387800', '1594647000', '1594733400', '1594819800', '1594906200', '1594992600', '1595251800', '1595338200', '1595424600', '1595511000', '1595597400', '1595856600', '1595943000', '1596029400', '1596115800', '1596202200', '1596461400', '1596547800', '1596634200', '1596720600', '1596807000', '1597066200', '1597152600', '1597239000', '1597325400', '1597411800', '1597671000', '1597757400', '1597843800', '1597930200', '1598016600', '1598275800', '1598362200', '1598448600', '1598535000', '1598621400', '1598880600', '1598967000', '1599053400', '1599139800', '1599226200', '1599571800', '1599658200', '1599744600', '1599831000', '1600090200', '1600176600', '1600263000', '1600349400', '1600435800', '1600695000', '1600781400', '1600867800', '1600954200', '1601040600', '1601299800', '1601386200', '1601472600', '1601559000', '1601645400', '1601904600', '1601991000', '1602077400', '1602163800', '1602250200', '1602509400', '1602595800', '1602682200', '1602768600', '1602855000', '1603114200', '1603200600', '1603287000', '1603373400', '1603459800', '1603719000', '1603805400', '1603891800', '1603978200', '1604064600', '1604327400', '1604413800', '1604500200', '1604586600', '1604673000', '1604932200', '1605018600', '1605105000', '1605191400', '1605277800', '1605537000', '1605623400', '1605709800', '1605796200', '1605882600', '1606141800', '1606228200', '1606314600', '1606487400', '1606746600', '1606833000', '1606919400', '1607005800', '1607092200', '1607351400', '1607437800', '1607524200', '1607610600', '1607697000', '1607956200', '1608042600', '1608129000', '1608215400', '1608301800', '1608561000', '1608647400', '1608733800', '1608820200', '1609165800', '1609252200', '1609338600', '1609425000', '1609770600', '1609857000', '1609943400', '1610029800', '1610116200', '1610375400', '1610461800', '1610548200', '1610634600', '1610721000', '1611066600', '1611153000', '1611239400', '1611325800', '1611585000', '1611671400', '1611757800', '1611844200', '1611930600', '1612189800', '1612276200', '1612362600', '1612449000', '1612535400', '1612794600', '1612881000', '1612967400', '1613053800', '1613140200', '1613485800', '1613572200', '1613658600', '1613745000', '1614004200', '1614090600', '1614177000', '1614263400', '1614349800', '1614609000', '1614695400', '1614781800', '1614868200', '1614954600', '1615213800', '1615300200', '1615386600', '1615473000', '1615559400', '1615815000', '1615901400', '1615987800', '1616074200', '1616160600', '1616419800', '1616506200', '1616592600', '1616679000', '1616765400', '1617024600', '1617111000', '1617197400', '1617283800', '1617629400', '1617715800', '1617802200', '1617888600', '1617975000', '1618234200', '1618320600', '1618407000', '1618493400', '1618579800', '1618839000', '1618925400', '1619011800', '1619098200', '1619184600', '1619443800', '1619530200', '1619616600', '1619703000', '1619789400', '1620048600', '1620135000', '1620221400', '1620307800', '1620394200', '1620653400', '1620739800', '1620826200', '1620912600', '1620999000', '1621258200', '1621344600', '1621431000', '1621517400', '1621603800', '1621863000', '1621949400', '1622035800', '1622122200', '1622208600', '1622554200', '1622640600', '1622727000', '1622813400', '1623072600', '1623159000', '1623245400', '1623331800', '1623418200', '1623677400', '1623763800', '1623850200', '1623936600', '1624023000', '1624282200', '1624368600', '1624455000', '1624541400', '1624627800', '1624887000', '1624973400', '1625059800', '1625146200', '1625232600', '1625578200', '1625664600', '1625751000', '1625837400', '1626096600', '1626183000', '1626269400', '1626355800', '1626442200', '1626701400', '1626787800', '1626874200', '1626960600', '1627047000', '1627306200', '1627392600', '1627479000', '1627565400', '1627651800', '1627911000', '1627997400', '1628083800', '1628170200', '1628256600', '1628515800', '1628602200', '1628688600', '1628775000', '1628861400', '1629120600', '1629207000', '1629293400', '1629379800', '1629466200', '1629725400', '1629811800', '1629898200', '1629984600', '1630071000', '1630330200', '1630416600', '1630503000', '1630589400', '1630675800', '1631021400', '1631107800', '1631194200', '1631280600', '1631539800', '1631626200', '1631712600', '1631799000', '1631885400', '1632144600', '1632231000', '1632317400', '1632403800', '1632490200', '1632749400', '1632835800', '1632922200', '1633008600', '1633095000', '1633354200', '1633440600', '1633527000', '1633613400', '1633699800', '1633959000', '1634045400', '1634131800', '1634218200', '1634304600', '1634563800', '1634650200', '1634736600', '1634823000', '1634909400', '1635168600', '1635255000', '1635341400', '1635427800', '1635514200', '1635773400', '1635859800', '1635946200', '1636032600', '1636119000', '1636381800', '1636468200', '1636554600', '1636641000', '1636727400', '1636986600', '1637073000', '1637159400', '1637245800', '1637332200', '1637591400', '1637677800', '1637764200', '1637937000', '1638196200', '1638282600', '1638369000', '1638455400', '1638541800', '1638801000', '1638887400', '1638973800', '1639060200', '1639146600', '1639405800', '1639492200', '1639578600', '1639665000', '1639751400', '1640010600', '1640097000', '1640183400', '1640269800', '1640615400', '1640701800', '1640788200', '1640874600', '1640961000', '1641220200', '1641306600', '1641393000', '1641479400', '1641565800', '1641825000', '1641911400', '1641997800', '1642084200', '1642170600', '1642516200', '1642602600', '1642689000', '1642775400', '1643034600', '1643121000', '1643207400', '1643293800', '1643380200', '1643639400', '1643725800', '1643812200', '1643898600', '1643985000', '1644244200', '1644330600', '1644417000', '1644503400', '1644589800', '1644849000', '1644935400', '1645021800', '1645108200', '1645194600', '1645540200', '1645626600', '1645713000', '1645799400', '1646058600', '1646145000', '1646231400', '1646317800', '1646404200', '1646663400', '1646749800', '1646836200', '1646922600', '1647009000', '1647264600', '1647351000', '1647437400', '1647523800', '1647610200', '1647869400', '1647955800', '1648042200', '1648128600', '1648215000', '1648474200', '1648560600', '1648647000', '1648733400', '1648819800', '1649079000', '1649165400', '1649251800', '1649338200', '1649424600', '1649683800', '1649770200', '1649856600', '1649943000', '1650288600', '1650375000', '1650461400', '1650547800', '1650634200', '1650893400', '1650979800', '1651066200', '1651152600', '1651239000', '1651498200', '1651584600', '1651671000', '1651757400', '1651843800', '1652103000', '1652189400', '1652275800', '1652362200', '1652448600', '1652707800', '1652794200', '1652880600', '1652967000', '1653053400', '1653312600', '1653399000', '1653485400', '1653571800', '1653658200', '1654003800', '1654090200', '1654176600', '1654263000', '1654522200', '1654608600', '1654695000', '1654781400', '1654867800', '1655127000', '1655213400', '1655299800', '1655386200', '1655472600', '1655818200', '1655904600', '1655991000', '1656077400', '1656336600', '1656423000', '1656509400', '1656595800', '1656682200', '1657027800', '1657114200', '1657200600', '1657287000', '1657546200', '1657632600', '1657719000', '1657805400', '1657891800', '1658151000', '1658237400', '1658323800', '1658410200', '1658496600', '1658755800', '1658842200', '1658928600', '1659015000', '1659101400', '1659360600', '1659447000', '1659533400', '1659619800', '1659706200', '1659965400', '1660051800', '1660138200', '1660224600', '1660311000', '1660570200', '1660656600', '1660743000', '1660829400', '1660915800', '1661175000', '1661261400', '1661347800', '1661434200', '1661520600', '1661779800', '1661866200', '1661952600', '1662039000', '1662125400', '1662471000', '1662557400', '1662643800', '1662730200', '1662989400', '1663075800', '1663162200', '1663248600', '1663335000', '1663594200', '1663680600', '1663767000', '1663853400', '1663939800', '1664199000', '1664285400', '1664371800', '1664458200', '1664544600', '1664803800', '1664890200', '1664976600', '1665063000', '1665149400', '1665408600', '1665495000', '1665581400', '1665667800', '1665754200', '1666013400', '1666099800', '1666186200', '1666272600', '1666359000', '1666618200', '1666704600', '1666791000', '1666877400', '1666963800', '1667223000', '1667309400', '1667395800', '1667482200', '1667568600', '1667831400', '1667917800', '1668004200', '1668090600', '1668177000', '1668436200', '1668522600', '1668609000', '1668695400', '1668781800', '1669041000', '1669127400', '1669213800', '1669386600', '1669645800', '1669732200', '1669818600', '1669905000', '1669991400', '1670250600', '1670337000', '1670423400', '1670509800', '1670596200', '1670855400', '1670941800', '1671028200', '1671114600', '1671201000', '1671460200', '1671546600', '1671633000', '1671719400', '1671805800', '1672151400', '1672237800', '1672324200', '1672410600', '1672756200', '1672842600', '1672929000', '1673015400', '1673274600', '1673361000', '1673447400', '1673533800', '1673620200', '1673965800', '1674052200', '1674138600', '1674225000', '1674484200', '1674570600', '1674657000', '1674743400', '1674829800', '1675089000', '1675175400', '1675261800', '1675348200', '1675434600', '1675693800', '1675780200', '1675866600', '1675953000', '1676039400', '1676298600', '1676385000', '1676471400', '1676557800', '1676644200', '1676989800', '1677076200', '1677162600', '1677249000', '1677508200', '1677594600', '1677681000', '1677767400', '1677853800', '1678113000', '1678199400', '1678285800', '1678372200', '1678458600', '1678714200', '1678800600', '1678887000', '1678973400', '1679059800', '1679319000', '1679405400', '1679491800', '1679578200', '1679664600', '1679923800', '1680010200', '1680096600', '1680183000', '1680269400', '1680528600', '1680615000', '1680701400', '1680787800', '1681133400', '1681219800', '1681306200', '1681392600', '1681479000', '1681738200', '1681824600', '1681911000', '1681997400', '1682083800', '1682343000', '1682429400', '1682515800', '1682602200', '1682688600', '1682947800', '1683034200', '1683120600', '1683207000', '1683293400', '1683552600', '1683639000', '1683725400', '1683811800', '1683898200', '1684157400', '1684243800', '1684330200', '1684416600', '1684503000', '1684762200', '1684848600', '1684935000', '1685021400', '1685107800', '1685453400', '1685539800', '1685626200', '1685712600', '1685971800', '1686058200', '1686144600', '1686231000', '1686317400', '1686576600', '1686663000', '1686749400', '1686835800', '1686922200', '1687267800', '1687354200', '1687440600', '1687527000', '1687786200', '1687872600', '1687959000', '1688045400', '1688131800', '1688391000', '1688563800', '1688650200', '1688736600', '1688995800', '1689082200', '1689168600', '1689255000', '1689341400', '1689600600', '1689687000', '1689773400', '1689859800', '1689946200', '1690205400', '1690291800', '1690378200', '1690464600', '1690551000', '1690810200', '1690896600', '1690983000', '1691069400', '1691155800', '1691415000', '1691501400', '1691587800', '1691674200', '1691760600', '1692019800', '1692106200', '1692192600', '1692279000', '1692365400', '1692624600', '1692711000', '1692797400', '1692883800', '1692970200', '1693229400', '1693315800', '1693402200', '1693488600', '1693575000', '1693920600', '1694007000', '1694093400', '1694179800', '1694439000', '1694525400', '1694611800', '1694698200', '1694784600', '1695043800', '1695130200', '1695216600', '1695303000', '1695389400', '1695648600', '1695735000', '1695821400', '1695907800', '1695994200', '1696253400', '1696339800', '1696426200', '1696512600', '1696599000', '1696858200', '1696944600', '1697031000', '1697117400', '1697203800', '1697463000', '1697549400', '1697635800', '1697722200', '1697808600', '1698067800', '1698154200', '1698240600', '1698327000', '1698413400', '1698672600'])"
      ]
     },
     "execution_count": 13,
     "metadata": {},
     "output_type": "execute_result"
    }
   ],
   "source": [
    "financials_and_quotes[tickers[0]]['quotes'].keys()"
   ]
  },
  {
   "cell_type": "code",
   "execution_count": 14,
   "metadata": {},
   "outputs": [
    {
     "data": {
      "text/plain": [
       "{'adjclose': 78.15552520751953,\n",
       " 'close': 80.3499984741211,\n",
       " 'high': 80.98999786376953,\n",
       " 'low': 80.0199966430664,\n",
       " 'open': 80.77999877929688,\n",
       " 'volume': 1775600}"
      ]
     },
     "execution_count": 14,
     "metadata": {},
     "output_type": "execute_result"
    }
   ],
   "source": [
    "financials_and_quotes[tickers[0]]['quotes']['1575297000']"
   ]
  },
  {
   "cell_type": "code",
   "execution_count": 15,
   "metadata": {},
   "outputs": [],
   "source": [
    "for ticker in tickers:\n",
    "    quotes_stats = {}\n",
    "    for timestamp in financials_and_quotes[ticker]['quotes'].keys():\n",
    "        time = datetime.fromtimestamp(int(timestamp))\n",
    "        year = time.year\n",
    "        month = time.month\n",
    "        day = time.day\n",
    "\n",
    "        if year not in quotes_stats.keys():\n",
    "            quotes_stats[year] = {}\n",
    "        if month not in quotes_stats[year].keys():\n",
    "            quotes_stats[year][month] = {}\n",
    "\n",
    "        if financials_and_quotes[ticker]['quotes'][timestamp]['volume'] is None:\n",
    "            quotes_stats[year][month][day] = None\n",
    "            continue\n",
    "\n",
    "        quotes_stats[year][month][day] = {\n",
    "            'volume': financials_and_quotes[ticker]['quotes'][timestamp]['volume'],\n",
    "            'volumePrice': financials_and_quotes[ticker]['quotes'][timestamp]['volume'] * financials_and_quotes[ticker]['quotes'][timestamp]['close'],\n",
    "            'spread': (financials_and_quotes[ticker]['quotes'][timestamp]['high'] - financials_and_quotes[ticker]['quotes'][timestamp]['low']) / financials_and_quotes[ticker]['quotes'][timestamp]['close'],\n",
    "            'average': financials_and_quotes[ticker]['quotes'][timestamp]['close'],\n",
    "            'low': financials_and_quotes[ticker]['quotes'][timestamp]['low'],\n",
    "            'high': financials_and_quotes[ticker]['quotes'][timestamp]['high'],\n",
    "        }\n",
    "\n",
    "    for year in quotes_stats:\n",
    "        for month in quotes_stats[year]:\n",
    "            volume = 0\n",
    "            volumePrice = 0\n",
    "            spreadSum = 0\n",
    "            minLow = 10e9\n",
    "            maxHigh = -10e9\n",
    "            missingDays = 0\n",
    "\n",
    "            for day in quotes_stats[year][month]:\n",
    "                if quotes_stats[year][month][day] is None:\n",
    "                    missingDays += 1\n",
    "                    continue\n",
    "\n",
    "                volume += quotes_stats[year][month][day]['volume']\n",
    "                volumePrice += quotes_stats[year][month][day]['volumePrice']\n",
    "                minLow = min(minLow, quotes_stats[year][month][day]['low'])\n",
    "                maxHigh = max(maxHigh, quotes_stats[year][month][day]['high'])\n",
    "                spreadSum += quotes_stats[year][month][day]['spread']\n",
    "\n",
    "            quotes_stats[year][month]['stats'] = {\n",
    "                'low': minLow,\n",
    "                'high': maxHigh,\n",
    "                'volume': volume,\n",
    "                'volumePrice': volumePrice,\n",
    "                'spread': (maxHigh - minLow)  if maxHigh != -10e9 and minLow != 10e9 else None,\n",
    "                'averagePrice': volumePrice / volume if volume != 0 else None,\n",
    "                'averageDailySpread': spreadSum / (len(quotes_stats[year][month].keys()) - missingDays) if len(quotes_stats[year][month].keys()) - missingDays != 0 else None,\n",
    "                'missingDays': missingDays,\n",
    "            }\n",
    "\n",
    "        volume = 0\n",
    "        volumePrice = 0\n",
    "        dailySpreadSum = 0\n",
    "        monthlySpreadSum = 0\n",
    "        minLow = 10e9\n",
    "        maxHigh = -10e9\n",
    "        missingDays = 0\n",
    "        missingMonths = 0\n",
    "        daysCount = 0\n",
    "        minLow = 10e9\n",
    "        maxHigh = -10e9\n",
    "\n",
    "        for month in quotes_stats[year]:\n",
    "            if quotes_stats[year][month]['stats']['missingDays'] == len(quotes_stats[year][month].keys()) - 1:\n",
    "                missingMonths += 1\n",
    "                continue\n",
    "\n",
    "            volume += quotes_stats[year][month]['stats']['volume']\n",
    "            volumePrice += quotes_stats[year][month]['stats']['volumePrice']\n",
    "            minLow = min(minLow, quotes_stats[year][month]['stats']['low'])\n",
    "            maxHigh = max(maxHigh, quotes_stats[year][month]['stats']['high'])\n",
    "            dailySpreadSum += quotes_stats[year][month]['stats']['spread']\n",
    "            monthlySpreadSum += quotes_stats[year][month]['stats']['averageDailySpread']\n",
    "            missingDays += quotes_stats[year][month]['stats']['missingDays']\n",
    "            daysCount += len(quotes_stats[year][month].keys()) - quotes_stats[year][month]['stats']['missingDays']\n",
    "\n",
    "        quotes_stats[year]['stats'] = {\n",
    "            'low': minLow,\n",
    "            'high': maxHigh,\n",
    "            'volume': volume,\n",
    "            'volumePrice': volumePrice,\n",
    "            'spread': maxHigh - minLow if maxHigh != -10e9 and minLow != 10e9 else None,\n",
    "            'averagePrice': volumePrice / volume if volume != 0 else None,\n",
    "            'averageDailySpread': dailySpreadSum / daysCount if daysCount != 0 else None,\n",
    "            'averageMonthlySpread': monthlySpreadSum / (len(quotes_stats[year]) - missingMonths) if len(quotes_stats[year]) - missingMonths != 0 else None,\n",
    "            'missingDays': missingDays,\n",
    "            'missingMonths': missingMonths,\n",
    "        }\n",
    "\n",
    "    financials_and_quotes[ticker]['quotes_stats'] = quotes_stats\n"
   ]
  },
  {
   "cell_type": "code",
   "execution_count": 16,
   "metadata": {},
   "outputs": [
    {
     "data": {
      "text/plain": [
       "{'low': 61.130001068115234,\n",
       " 'high': 120.23999786376953,\n",
       " 'volume': 468519400,\n",
       " 'volumePrice': 42014381137.28027,\n",
       " 'spread': 59.1099967956543,\n",
       " 'averagePrice': 89.67479497600371,\n",
       " 'averageDailySpread': 0.5186792481620357,\n",
       " 'averageMonthlySpread': 2.237013134848078,\n",
       " 'missingDays': 0,\n",
       " 'missingMonths': 0}"
      ]
     },
     "execution_count": 16,
     "metadata": {},
     "output_type": "execute_result"
    }
   ],
   "source": [
    "financials_and_quotes[tickers[0]]['quotes_stats'][2020]['stats']"
   ]
  },
  {
   "cell_type": "code",
   "execution_count": 17,
   "metadata": {},
   "outputs": [
    {
     "data": {
      "text/plain": [
       "{'low': 82.33999633789062,\n",
       " 'high': 90.63999938964844,\n",
       " 'volume': 38918800,\n",
       " 'volumePrice': 3389516248.4344482,\n",
       " 'spread': 8.300003051757812,\n",
       " 'averagePrice': 87.09200305339446,\n",
       " 'averageDailySpread': 1.2461907523018974,\n",
       " 'missingDays': 0}"
      ]
     },
     "execution_count": 17,
     "metadata": {},
     "output_type": "execute_result"
    }
   ],
   "source": [
    "financials_and_quotes[tickers[0]]['quotes_stats'][2020][1]['stats']"
   ]
  },
  {
   "cell_type": "code",
   "execution_count": 18,
   "metadata": {},
   "outputs": [
    {
     "data": {
      "text/plain": [
       "{'volume': 1410500,\n",
       " 'volumePrice': 121232470.6954956,\n",
       " 'spread': 1.1500015258789062,\n",
       " 'average': 85.94999694824219,\n",
       " 'low': 85.19999694824219,\n",
       " 'high': 86.3499984741211}"
      ]
     },
     "execution_count": 18,
     "metadata": {},
     "output_type": "execute_result"
    }
   ],
   "source": [
    "financials_and_quotes[tickers[0]]['quotes_stats'][2020][1][2]"
   ]
  },
  {
   "cell_type": "code",
   "execution_count": 19,
   "metadata": {},
   "outputs": [],
   "source": [
    "file_path = f'data/yahoo/merged_financials_quotes_markers.json'\n",
    "with open(file_path, 'w') as json_file:\n",
    "    json.dump(financials_and_quotes, json_file, indent=4)"
   ]
  }
 ],
 "metadata": {
  "kernelspec": {
   "display_name": "Python 3",
   "language": "python",
   "name": "python3"
  },
  "language_info": {
   "codemirror_mode": {
    "name": "ipython",
    "version": 3
   },
   "file_extension": ".py",
   "mimetype": "text/x-python",
   "name": "python",
   "nbconvert_exporter": "python",
   "pygments_lexer": "ipython3",
   "version": "3.10.12"
  }
 },
 "nbformat": 4,
 "nbformat_minor": 2
}
